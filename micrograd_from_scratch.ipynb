{
 "cells": [
  {
   "cell_type": "code",
   "execution_count": 58,
   "metadata": {},
   "outputs": [],
   "source": [
    "import math \n",
    "import numpy as np\n",
    "import matplotlib.pyplot as plt\n",
    "%matplotlib inline"
   ]
  },
  {
   "cell_type": "code",
   "execution_count": 10,
   "metadata": {},
   "outputs": [],
   "source": [
    " def f(x):\n",
    "        return 3*x**2 - 4*x + 5"
   ]
  },
  {
   "cell_type": "code",
   "execution_count": 20,
   "metadata": {},
   "outputs": [
    {
     "data": {
      "text/plain": [
       "20.0"
      ]
     },
     "execution_count": 20,
     "metadata": {},
     "output_type": "execute_result"
    }
   ],
   "source": [
    "f(3.0)"
   ]
  },
  {
   "cell_type": "code",
   "execution_count": 21,
   "metadata": {},
   "outputs": [
    {
     "data": {
      "text/plain": [
       "[<matplotlib.lines.Line2D at 0x3cfe0b8>]"
      ]
     },
     "execution_count": 21,
     "metadata": {},
     "output_type": "execute_result"
    },
    {
     "data": {
      "image/png": "[encoded data removed]",
      "text/plain": [
       "<Figure size 640x480 with 1 Axes>"
      ]
     },
     "metadata": {},
     "output_type": "display_data"
    }
   ],
   "source": [
    "xs = np.arange(-5, 5, 0.25)\n",
    "ys = f(xs)\n",
    "ys\n",
    "plt.plot(xs, ys)"
   ]
  },
  {
   "cell_type": "code",
   "execution_count": 29,
   "metadata": {},
   "outputs": [
    {
     "data": {
      "text/plain": [
       "0.0"
      ]
     },
     "execution_count": 29,
     "metadata": {},
     "output_type": "execute_result"
    }
   ],
   "source": [
    "h = 0.00000000001\n",
    "x = 2/3\n",
    "(f(x+h)-f(x))/h"
   ]
  },
  {
   "cell_type": "code",
   "execution_count": 30,
   "metadata": {},
   "outputs": [
    {
     "name": "stdout",
     "output_type": "stream",
     "text": [
      "4.0\n"
     ]
    }
   ],
   "source": [
    "#more complex\n",
    "a = 2.0\n",
    "b = -3.0\n",
    "c = 10.0\n",
    "d = a*b + c\n",
    "print(d)"
   ]
  },
  {
   "cell_type": "code",
   "execution_count": 54,
   "metadata": {},
   "outputs": [
    {
     "name": "stdout",
     "output_type": "stream",
     "text": [
      "d1 4.0\n",
      "d2 4.0001\n",
      "slope 0.9999999999976694\n"
     ]
    }
   ],
   "source": [
    "h = 0.0001\n",
    "\n",
    "#inputs\n",
    "a = 2.0\n",
    "b = -3.0\n",
    "c = 10.0\n",
    "\n",
    "d1 = a*b + c\n",
    "c += h\n",
    "d2 = a*b + c\n",
    "\n",
    "print('d1', d1)\n",
    "print('d2', d2)\n",
    "print('slope', (d2-d1)/h)\n",
    "\n"
   ]
  },
  {
   "cell_type": "code",
   "execution_count": 21,
   "metadata": {},
   "outputs": [
    {
     "data": {
      "text/plain": [
       "Value(data = -8.0)"
      ]
     },
     "execution_count": 21,
     "metadata": {},
     "output_type": "execute_result"
    }
   ],
   "source": [
    "class Value:\n",
    "    #constructor\n",
    "    def __init__(self, data, _children=(), _op='', label = ''):\n",
    "        self.data = data\n",
    "        self.grad = 0.\n",
    "        self._prev = set(_children)\n",
    "        self._op = _op\n",
    "        self.label = label\n",
    "        \n",
    "    #represent operation\n",
    "    def __repr__(self):\n",
    "        return f\"Value(data = {self.data})\" \n",
    "    \n",
    "    #add operation\n",
    "    def __add__(self, other):\n",
    "        out = Value(self.data + other.data, (self, other), '+')\n",
    "        return out\n",
    "    \n",
    "    #multiply operation\n",
    "    def __mul__(self, other):\n",
    "        out = Value(self.data * other.data, (self, other), '*')\n",
    "        return out\n",
    "    \n",
    "    \n",
    "    \n",
    "a = Value(2.0, label = 'a')\n",
    "b = Value(-3.0, label = 'b')\n",
    "c = Value(10.0, label = 'c')\n",
    "e = a * b; e.label = 'e'\n",
    "d = e + c; d.label = 'd'\n",
    "f = Value(-2.0, label = 'f')\n",
    "L = d * f; L.label = 'L'\n",
    "L\n"
   ]
  },
  {
   "cell_type": "code",
   "execution_count": 4,
   "metadata": {},
   "outputs": [],
   "source": [
    "from  graphviz import Digraph\n",
    "\n",
    "def trace(root):\n",
    "  # builds a set of all nodes and edges in a graph\n",
    "  nodes, edges = set(), set()\n",
    "  def build(v):\n",
    "    if v not in nodes:\n",
    "      nodes.add(v)\n",
    "      for child in v._prev:\n",
    "        edges.add((child, v))\n",
    "        build(child)\n",
    "  build(root)\n",
    "  return nodes, edges\n",
    "\n",
    "def draw_dot(root):\n",
    "  dot = Digraph(format='svg', graph_attr={'rankdir': 'LR'}) # LR = left to right\n",
    "  \n",
    "  nodes, edges = trace(root)\n",
    "  for n in nodes:\n",
    "    uid = str(id(n))\n",
    "    # for any value in the graph, create a rectangular ('record') node for it\n",
    "    dot.node(name = uid, label = \"{ %s | data %.4f | grad %.4f }\" % (n.label, n.data, n.grad), shape='record')\n",
    "    if n._op:\n",
    "      # if this value is a result of some operation, create an op node for it\n",
    "      dot.node(name = uid + n._op, label = n._op)\n",
    "      # and connect this node to it\n",
    "      dot.edge(uid + n._op, uid)\n",
    "\n",
    "  for n1, n2 in edges:\n",
    "    # connect n1 to the op node of n2\n",
    "    dot.edge(str(id(n1)), str(id(n2)) + n2._op)\n",
    "\n",
    "  return dot\n"
   ]
  },
  {
   "cell_type": "code",
   "execution_count": 24,
   "metadata": {},
   "outputs": [
    {
     "data": {
      "image/svg+xml": [
       "<?xml version=\"1.0\" encoding=\"UTF-8\" standalone=\"no\"?>\n",
       "<!DOCTYPE svg PUBLIC \"-//W3C//DTD SVG 1.1//EN\"\n",
       " \"http://www.w3.org/Graphics/SVG/1.1/DTD/svg11.dtd\">\n",
       "<!-- Generated by graphviz version 2.43.0 (0)\n",
       " -->\n",
       "<!-- Title: %3 Pages: 1 -->\n",
       "<svg width=\"1343pt\" height=\"156pt\"\n",
       " viewBox=\"0.00 0.00 1343.00 156.00\" xmlns=\"http://www.w3.org/2000/svg\" xmlns:xlink=\"http://www.w3.org/1999/xlink\">\n",
       "<g id=\"graph0\" class=\"graph\" transform=\"scale(1 1) rotate(0) translate(4 152)\">\n",
       "<title>%3</title>\n",
       "<polygon fill=\"white\" stroke=\"transparent\" points=\"-4,4 -4,-152 1339,-152 1339,4 -4,4\"/>\n",
       "<!-- 139998962101760 -->\n",
       "<g id=\"node1\" class=\"node\">\n",
       "<title>139998962101760</title>\n",
       "<polygon fill=\"none\" stroke=\"black\" points=\"0,-111.5 0,-147.5 241,-147.5 241,-111.5 0,-111.5\"/>\n",
       "<text text-anchor=\"middle\" x=\"13\" y=\"-125.8\" font-family=\"Times,serif\" font-size=\"14.00\">b</text>\n",
       "<polyline fill=\"none\" stroke=\"black\" points=\"26,-111.5 26,-147.5 \"/>\n",
       "<text text-anchor=\"middle\" x=\"79.5\" y=\"-125.8\" font-family=\"Times,serif\" font-size=\"14.00\">data &#45;3.0000</text>\n",
       "<polyline fill=\"none\" stroke=\"black\" points=\"133,-111.5 133,-147.5 \"/>\n",
       "<text text-anchor=\"middle\" x=\"187\" y=\"-125.8\" font-family=\"Times,serif\" font-size=\"14.00\">grad &#45;4.0000</text>\n",
       "</g>\n",
       "<!-- 139998962099840* -->\n",
       "<g id=\"node6\" class=\"node\">\n",
       "<title>139998962099840*</title>\n",
       "<ellipse fill=\"none\" stroke=\"black\" cx=\"304\" cy=\"-101.5\" rx=\"27\" ry=\"18\"/>\n",
       "<text text-anchor=\"middle\" x=\"304\" y=\"-97.8\" font-family=\"Times,serif\" font-size=\"14.00\">*</text>\n",
       "</g>\n",
       "<!-- 139998962101760&#45;&gt;139998962099840* -->\n",
       "<g id=\"edge5\" class=\"edge\">\n",
       "<title>139998962101760&#45;&gt;139998962099840*</title>\n",
       "<path fill=\"none\" stroke=\"black\" d=\"M238.24,-111.49C248.61,-109.89 258.49,-108.37 267.27,-107.01\"/>\n",
       "<polygon fill=\"black\" stroke=\"black\" points=\"268.03,-110.44 277.38,-105.45 266.97,-103.52 268.03,-110.44\"/>\n",
       "</g>\n",
       "<!-- 139998962101280 -->\n",
       "<g id=\"node2\" class=\"node\">\n",
       "<title>139998962101280</title>\n",
       "<polygon fill=\"none\" stroke=\"black\" points=\"737.5,-0.5 737.5,-36.5 970.5,-36.5 970.5,-0.5 737.5,-0.5\"/>\n",
       "<text text-anchor=\"middle\" x=\"748.5\" y=\"-14.8\" font-family=\"Times,serif\" font-size=\"14.00\">f</text>\n",
       "<polyline fill=\"none\" stroke=\"black\" points=\"759.5,-0.5 759.5,-36.5 \"/>\n",
       "<text text-anchor=\"middle\" x=\"813\" y=\"-14.8\" font-family=\"Times,serif\" font-size=\"14.00\">data &#45;2.0000</text>\n",
       "<polyline fill=\"none\" stroke=\"black\" points=\"866.5,-0.5 866.5,-36.5 \"/>\n",
       "<text text-anchor=\"middle\" x=\"918.5\" y=\"-14.8\" font-family=\"Times,serif\" font-size=\"14.00\">grad 4.0000</text>\n",
       "</g>\n",
       "<!-- 139998962102864* -->\n",
       "<g id=\"node4\" class=\"node\">\n",
       "<title>139998962102864*</title>\n",
       "<ellipse fill=\"none\" stroke=\"black\" cx=\"1035\" cy=\"-45.5\" rx=\"27\" ry=\"18\"/>\n",
       "<text text-anchor=\"middle\" x=\"1035\" y=\"-41.8\" font-family=\"Times,serif\" font-size=\"14.00\">*</text>\n",
       "</g>\n",
       "<!-- 139998962101280&#45;&gt;139998962102864* -->\n",
       "<g id=\"edge4\" class=\"edge\">\n",
       "<title>139998962101280&#45;&gt;139998962102864*</title>\n",
       "<path fill=\"none\" stroke=\"black\" d=\"M970.64,-35.94C980.5,-37.43 989.9,-38.85 998.29,-40.11\"/>\n",
       "<polygon fill=\"black\" stroke=\"black\" points=\"997.94,-43.6 1008.35,-41.63 998.98,-36.68 997.94,-43.6\"/>\n",
       "</g>\n",
       "<!-- 139998962102864 -->\n",
       "<g id=\"node3\" class=\"node\">\n",
       "<title>139998962102864</title>\n",
       "<polygon fill=\"none\" stroke=\"black\" points=\"1098,-27.5 1098,-63.5 1335,-63.5 1335,-27.5 1098,-27.5\"/>\n",
       "<text text-anchor=\"middle\" x=\"1111\" y=\"-41.8\" font-family=\"Times,serif\" font-size=\"14.00\">L</text>\n",
       "<polyline fill=\"none\" stroke=\"black\" points=\"1124,-27.5 1124,-63.5 \"/>\n",
       "<text text-anchor=\"middle\" x=\"1177.5\" y=\"-41.8\" font-family=\"Times,serif\" font-size=\"14.00\">data &#45;8.0000</text>\n",
       "<polyline fill=\"none\" stroke=\"black\" points=\"1231,-27.5 1231,-63.5 \"/>\n",
       "<text text-anchor=\"middle\" x=\"1283\" y=\"-41.8\" font-family=\"Times,serif\" font-size=\"14.00\">grad 1.0000</text>\n",
       "</g>\n",
       "<!-- 139998962102864*&#45;&gt;139998962102864 -->\n",
       "<g id=\"edge1\" class=\"edge\">\n",
       "<title>139998962102864*&#45;&gt;139998962102864</title>\n",
       "<path fill=\"none\" stroke=\"black\" d=\"M1062.1,-45.5C1069.61,-45.5 1078.33,-45.5 1087.75,-45.5\"/>\n",
       "<polygon fill=\"black\" stroke=\"black\" points=\"1087.78,-49 1097.78,-45.5 1087.78,-42 1087.78,-49\"/>\n",
       "</g>\n",
       "<!-- 139998962099840 -->\n",
       "<g id=\"node5\" class=\"node\">\n",
       "<title>139998962099840</title>\n",
       "<polygon fill=\"none\" stroke=\"black\" points=\"368.5,-83.5 368.5,-119.5 608.5,-119.5 608.5,-83.5 368.5,-83.5\"/>\n",
       "<text text-anchor=\"middle\" x=\"381\" y=\"-97.8\" font-family=\"Times,serif\" font-size=\"14.00\">e</text>\n",
       "<polyline fill=\"none\" stroke=\"black\" points=\"393.5,-83.5 393.5,-119.5 \"/>\n",
       "<text text-anchor=\"middle\" x=\"447\" y=\"-97.8\" font-family=\"Times,serif\" font-size=\"14.00\">data &#45;6.0000</text>\n",
       "<polyline fill=\"none\" stroke=\"black\" points=\"500.5,-83.5 500.5,-119.5 \"/>\n",
       "<text text-anchor=\"middle\" x=\"554.5\" y=\"-97.8\" font-family=\"Times,serif\" font-size=\"14.00\">grad &#45;2.0000</text>\n",
       "</g>\n",
       "<!-- 139998962102432+ -->\n",
       "<g id=\"node8\" class=\"node\">\n",
       "<title>139998962102432+</title>\n",
       "<ellipse fill=\"none\" stroke=\"black\" cx=\"673\" cy=\"-73.5\" rx=\"27\" ry=\"18\"/>\n",
       "<text text-anchor=\"middle\" x=\"673\" y=\"-69.8\" font-family=\"Times,serif\" font-size=\"14.00\">+</text>\n",
       "</g>\n",
       "<!-- 139998962099840&#45;&gt;139998962102432+ -->\n",
       "<g id=\"edge7\" class=\"edge\">\n",
       "<title>139998962099840&#45;&gt;139998962102432+</title>\n",
       "<path fill=\"none\" stroke=\"black\" d=\"M606.89,-83.49C617.53,-81.86 627.65,-80.3 636.61,-78.93\"/>\n",
       "<polygon fill=\"black\" stroke=\"black\" points=\"637.2,-82.38 646.55,-77.4 636.14,-75.46 637.2,-82.38\"/>\n",
       "</g>\n",
       "<!-- 139998962099840*&#45;&gt;139998962099840 -->\n",
       "<g id=\"edge2\" class=\"edge\">\n",
       "<title>139998962099840*&#45;&gt;139998962099840</title>\n",
       "<path fill=\"none\" stroke=\"black\" d=\"M331.15,-101.5C338.98,-101.5 348.16,-101.5 358.06,-101.5\"/>\n",
       "<polygon fill=\"black\" stroke=\"black\" points=\"358.19,-105 368.19,-101.5 358.19,-98 358.19,-105\"/>\n",
       "</g>\n",
       "<!-- 139998962102432 -->\n",
       "<g id=\"node7\" class=\"node\">\n",
       "<title>139998962102432</title>\n",
       "<polygon fill=\"none\" stroke=\"black\" points=\"736,-55.5 736,-91.5 972,-91.5 972,-55.5 736,-55.5\"/>\n",
       "<text text-anchor=\"middle\" x=\"749\" y=\"-69.8\" font-family=\"Times,serif\" font-size=\"14.00\">d</text>\n",
       "<polyline fill=\"none\" stroke=\"black\" points=\"762,-55.5 762,-91.5 \"/>\n",
       "<text text-anchor=\"middle\" x=\"813\" y=\"-69.8\" font-family=\"Times,serif\" font-size=\"14.00\">data 4.0000</text>\n",
       "<polyline fill=\"none\" stroke=\"black\" points=\"864,-55.5 864,-91.5 \"/>\n",
       "<text text-anchor=\"middle\" x=\"918\" y=\"-69.8\" font-family=\"Times,serif\" font-size=\"14.00\">grad &#45;2.0000</text>\n",
       "</g>\n",
       "<!-- 139998962102432&#45;&gt;139998962102864* -->\n",
       "<g id=\"edge6\" class=\"edge\">\n",
       "<title>139998962102432&#45;&gt;139998962102864*</title>\n",
       "<path fill=\"none\" stroke=\"black\" d=\"M970.13,-55.49C980.27,-53.91 989.92,-52.4 998.51,-51.05\"/>\n",
       "<polygon fill=\"black\" stroke=\"black\" points=\"999.09,-54.5 1008.43,-49.5 998.01,-47.59 999.09,-54.5\"/>\n",
       "</g>\n",
       "<!-- 139998962102432+&#45;&gt;139998962102432 -->\n",
       "<g id=\"edge3\" class=\"edge\">\n",
       "<title>139998962102432+&#45;&gt;139998962102432</title>\n",
       "<path fill=\"none\" stroke=\"black\" d=\"M700.03,-73.5C707.58,-73.5 716.38,-73.5 725.87,-73.5\"/>\n",
       "<polygon fill=\"black\" stroke=\"black\" points=\"725.99,-77 735.99,-73.5 725.99,-70 725.99,-77\"/>\n",
       "</g>\n",
       "<!-- 139998962103152 -->\n",
       "<g id=\"node9\" class=\"node\">\n",
       "<title>139998962103152</title>\n",
       "<polygon fill=\"none\" stroke=\"black\" points=\"367,-28.5 367,-64.5 610,-64.5 610,-28.5 367,-28.5\"/>\n",
       "<text text-anchor=\"middle\" x=\"379\" y=\"-42.8\" font-family=\"Times,serif\" font-size=\"14.00\">c</text>\n",
       "<polyline fill=\"none\" stroke=\"black\" points=\"391,-28.5 391,-64.5 \"/>\n",
       "<text text-anchor=\"middle\" x=\"446.5\" y=\"-42.8\" font-family=\"Times,serif\" font-size=\"14.00\">data 10.0000</text>\n",
       "<polyline fill=\"none\" stroke=\"black\" points=\"502,-28.5 502,-64.5 \"/>\n",
       "<text text-anchor=\"middle\" x=\"556\" y=\"-42.8\" font-family=\"Times,serif\" font-size=\"14.00\">grad &#45;2.0000</text>\n",
       "</g>\n",
       "<!-- 139998962103152&#45;&gt;139998962102432+ -->\n",
       "<g id=\"edge8\" class=\"edge\">\n",
       "<title>139998962103152&#45;&gt;139998962102432+</title>\n",
       "<path fill=\"none\" stroke=\"black\" d=\"M610.21,-64.36C619.62,-65.75 628.55,-67.07 636.56,-68.26\"/>\n",
       "<polygon fill=\"black\" stroke=\"black\" points=\"636.1,-71.73 646.5,-69.73 637.12,-64.8 636.1,-71.73\"/>\n",
       "</g>\n",
       "<!-- 139998962105216 -->\n",
       "<g id=\"node10\" class=\"node\">\n",
       "<title>139998962105216</title>\n",
       "<polygon fill=\"none\" stroke=\"black\" points=\"5,-56.5 5,-92.5 236,-92.5 236,-56.5 5,-56.5\"/>\n",
       "<text text-anchor=\"middle\" x=\"17.5\" y=\"-70.8\" font-family=\"Times,serif\" font-size=\"14.00\">a</text>\n",
       "<polyline fill=\"none\" stroke=\"black\" points=\"30,-56.5 30,-92.5 \"/>\n",
       "<text text-anchor=\"middle\" x=\"81\" y=\"-70.8\" font-family=\"Times,serif\" font-size=\"14.00\">data 2.0000</text>\n",
       "<polyline fill=\"none\" stroke=\"black\" points=\"132,-56.5 132,-92.5 \"/>\n",
       "<text text-anchor=\"middle\" x=\"184\" y=\"-70.8\" font-family=\"Times,serif\" font-size=\"14.00\">grad 6.0000</text>\n",
       "</g>\n",
       "<!-- 139998962105216&#45;&gt;139998962099840* -->\n",
       "<g id=\"edge9\" class=\"edge\">\n",
       "<title>139998962105216&#45;&gt;139998962099840*</title>\n",
       "<path fill=\"none\" stroke=\"black\" d=\"M236.19,-91.56C247.37,-93.22 258.02,-94.81 267.41,-96.21\"/>\n",
       "<polygon fill=\"black\" stroke=\"black\" points=\"267.02,-99.69 277.43,-97.7 268.05,-92.76 267.02,-99.69\"/>\n",
       "</g>\n",
       "</g>\n",
       "</svg>\n"
      ],
      "text/plain": [
       "<graphviz.graphs.Digraph at 0x7f540c67bd00>"
      ]
     },
     "execution_count": 24,
     "metadata": {},
     "output_type": "execute_result"
    }
   ],
   "source": [
    "draw_dot(L)"
   ]
  },
  {
   "cell_type": "code",
   "execution_count": 25,
   "metadata": {},
   "outputs": [
    {
     "name": "stdout",
     "output_type": "stream",
     "text": [
      "-7.286496\n"
     ]
    }
   ],
   "source": [
    "a.data += 0.01 * a.grad\n",
    "b.data += 0.01 * b.grad\n",
    "c.data += 0.01 * c.grad\n",
    "f.data += 0.01 * f.grad\n",
    "\n",
    "e = a * b\n",
    "d = e + c\n",
    "L = d * f\n",
    "print(L.data)"
   ]
  },
  {
   "cell_type": "code",
   "execution_count": 5,
   "metadata": {},
   "outputs": [
    {
     "name": "stdout",
     "output_type": "stream",
     "text": [
      "-3.9999999999995595\n"
     ]
    }
   ],
   "source": [
    "def lol():\n",
    "    h = 0.001\n",
    "    \n",
    "    a = Value(2.0, label = 'a')\n",
    "    b = Value(-3.0, label = 'b')\n",
    "    c = Value(10.0, label = 'c')\n",
    "    e = a * b; e.label = 'e'\n",
    "    d = e + c; d.label = 'd'\n",
    "    f = Value(-2.0, label = 'f')\n",
    "    L = d * f; L.label = 'L'\n",
    "    L1 = L.data\n",
    "    \n",
    "    a = Value(2.0, label = 'a')\n",
    "    b = Value(-3.0, label = 'b')\n",
    "    b.data += h\n",
    "    c = Value(10.0, label = 'c')\n",
    "    e = a * b; e.label = 'e'\n",
    "    d = e + c; d.label = 'd'\n",
    "    f = Value(-2.0, label = 'f')\n",
    "    L = d * f; L.label = 'L'\n",
    "    L2 = L.data\n",
    "    \n",
    "    print((L2-L1)/h)\n",
    "\n",
    "lol()"
   ]
  }
 ],
 "metadata": {
  "kernelspec": {
   "display_name": "Python 3 (ipykernel)",
   "language": "python",
   "name": "python3"
  },
  "language_info": {
   "codemirror_mode": {
    "name": "ipython",
    "version": 3
   },
   "file_extension": ".py",
   "mimetype": "text/x-python",
   "name": "python",
   "nbconvert_exporter": "python",
   "pygments_lexer": "ipython3",
   "version": "3.10.6"
  }
 },
 "nbformat": 4,
 "nbformat_minor": 4
}
